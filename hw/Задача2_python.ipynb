{
 "cells": [
  {
   "cell_type": "markdown",
   "metadata": {},
   "source": [
    "# Задача 2\n",
    "### Пешков Максим"
   ]
  },
  {
   "cell_type": "code",
   "execution_count": 1,
   "metadata": {},
   "outputs": [],
   "source": [
    "a1 = 17\n",
    "a2 = 6\n",
    "a3 = 26\n",
    "b1 = 14\n",
    "b2 = 1\n",
    "b3 = 12\n",
    "c1 = 32\n",
    "c2 = 18\n",
    "c3 = 30"
   ]
  },
  {
   "cell_type": "code",
   "execution_count": 2,
   "metadata": {},
   "outputs": [],
   "source": [
    "from gekko import GEKKO\n",
    "import numpy as np\n",
    "import matplotlib.pyplot as plt\n",
    "import math"
   ]
  },
  {
   "cell_type": "markdown",
   "metadata": {},
   "source": [
    "## Попытка что-то сделать с моими личными параметрами"
   ]
  },
  {
   "cell_type": "code",
   "execution_count": 3,
   "metadata": {},
   "outputs": [
    {
     "ename": "Exception",
     "evalue": "@error: Solution Not Found\n",
     "output_type": "error",
     "traceback": [
      "\u001b[1;31m---------------------------------------------------------------------------\u001b[0m",
      "\u001b[1;31mException\u001b[0m                                 Traceback (most recent call last)",
      "\u001b[1;32m<ipython-input-3-5e01e202317a>\u001b[0m in \u001b[0;36m<module>\u001b[1;34m\u001b[0m\n\u001b[0;32m     23\u001b[0m \u001b[0mm\u001b[0m\u001b[1;33m.\u001b[0m\u001b[0mObj\u001b[0m\u001b[1;33m(\u001b[0m\u001b[0mz\u001b[0m \u001b[1;33m*\u001b[0m \u001b[0mfinal\u001b[0m\u001b[1;33m)\u001b[0m    \u001b[1;31m# Целевая функция\u001b[0m\u001b[1;33m\u001b[0m\u001b[1;33m\u001b[0m\u001b[0m\n\u001b[0;32m     24\u001b[0m \u001b[0mm\u001b[0m\u001b[1;33m.\u001b[0m\u001b[0moptions\u001b[0m\u001b[1;33m.\u001b[0m\u001b[0mIMODE\u001b[0m \u001b[1;33m=\u001b[0m \u001b[1;36m6\u001b[0m \u001b[1;31m# 6 -- задача оптимального управления/динамического программирования\u001b[0m\u001b[1;33m\u001b[0m\u001b[1;33m\u001b[0m\u001b[0m\n\u001b[1;32m---> 25\u001b[1;33m \u001b[0mm\u001b[0m\u001b[1;33m.\u001b[0m\u001b[0msolve\u001b[0m\u001b[1;33m(\u001b[0m\u001b[0mdisp\u001b[0m\u001b[1;33m=\u001b[0m\u001b[1;32mFalse\u001b[0m\u001b[1;33m)\u001b[0m\u001b[1;33m\u001b[0m\u001b[1;33m\u001b[0m\u001b[0m\n\u001b[0m\u001b[0;32m     26\u001b[0m \u001b[1;33m\u001b[0m\u001b[0m\n\u001b[0;32m     27\u001b[0m \u001b[1;33m\u001b[0m\u001b[0m\n",
      "\u001b[1;32mC:\\anaconda\\lib\\site-packages\\gekko\\gekko.py\u001b[0m in \u001b[0;36msolve\u001b[1;34m(self, disp, debug, GUI, **kwargs)\u001b[0m\n\u001b[0;32m   2128\u001b[0m                 \u001b[0mprint\u001b[0m\u001b[1;33m(\u001b[0m\u001b[1;34m\"Error:\"\u001b[0m\u001b[1;33m,\u001b[0m \u001b[0merrs\u001b[0m\u001b[1;33m)\u001b[0m\u001b[1;33m\u001b[0m\u001b[1;33m\u001b[0m\u001b[0m\n\u001b[0;32m   2129\u001b[0m             \u001b[1;32mif\u001b[0m \u001b[1;33m(\u001b[0m\u001b[0mdebug\u001b[0m \u001b[1;33m>=\u001b[0m \u001b[1;36m1\u001b[0m\u001b[1;33m)\u001b[0m \u001b[1;32mand\u001b[0m \u001b[0mrecord_error\u001b[0m\u001b[1;33m:\u001b[0m\u001b[1;33m\u001b[0m\u001b[1;33m\u001b[0m\u001b[0m\n\u001b[1;32m-> 2130\u001b[1;33m                 \u001b[1;32mraise\u001b[0m \u001b[0mException\u001b[0m\u001b[1;33m(\u001b[0m\u001b[0mapm_error\u001b[0m\u001b[1;33m)\u001b[0m\u001b[1;33m\u001b[0m\u001b[1;33m\u001b[0m\u001b[0m\n\u001b[0m\u001b[0;32m   2131\u001b[0m \u001b[1;33m\u001b[0m\u001b[0m\n\u001b[0;32m   2132\u001b[0m         \u001b[1;32melse\u001b[0m\u001b[1;33m:\u001b[0m \u001b[1;31m#solve on APM server\u001b[0m\u001b[1;33m\u001b[0m\u001b[1;33m\u001b[0m\u001b[0m\n",
      "\u001b[1;31mException\u001b[0m: @error: Solution Not Found\n"
     ]
    }
   ],
   "source": [
    "# Инициализируем модель\n",
    "m = GEKKO(remote=False)\n",
    "nt = 101\n",
    "m.time = np.linspace(0,2,nt)\n",
    "\n",
    "# Задаём переменные\n",
    "y = m.Var(value=a1)\n",
    "z = m.Var(value=0)\n",
    "u = m.Var(value=0,lb=-c1,ub=c2) #граничные условия на управление\n",
    "t = m.Var(value=0)\n",
    "\n",
    "# Отмечаем последнюю точку\n",
    "p = np.zeros(nt)    \n",
    "p[-1] = 1.0\n",
    "final = m.Param(value=p)\n",
    "\n",
    "\n",
    "# Задаём уравнения\n",
    "m.Equation(y.dt() == a3*y + u)\n",
    "m.Equation(t.dt() == 1)\n",
    "m.Equation(z.dt() == b1*y - b2*u)\n",
    "\n",
    "m.Obj(z * final)    # Целевая функция\n",
    "m.options.IMODE = 6 # 6 -- задача оптимального управления/динамического программирования\n",
    "m.solve(disp=False)\n",
    "\n",
    "\n",
    "# Рисуем получившееся решение\n",
    "plt.plot(m.time[1:], y.value[1:], 'k-', label=r'$y$')\n",
    "plt.plot(m.time[1:],u.value[1:],'r--',label=r'$u$')\n",
    "plt.legend(loc='best')\n",
    "plt.xlabel('Time')\n",
    "plt.ylabel('Value')\n",
    "plt.show()"
   ]
  },
  {
   "cell_type": "markdown",
   "metadata": {},
   "source": [
    "### При этом если поменять параметры, то все будет работать (например, вместо a3=26, поставить 0.5), что разрешено из сообщения в канале "
   ]
  },
  {
   "cell_type": "markdown",
   "metadata": {},
   "source": [
    "## Нахождение экстремума"
   ]
  },
  {
   "cell_type": "markdown",
   "metadata": {},
   "source": [
    "### Нахождение минимума"
   ]
  },
  {
   "cell_type": "code",
   "execution_count": 31,
   "metadata": {},
   "outputs": [
    {
     "data": {
      "image/png": "[encoded data removed]",
      "text/plain": [
       "<Figure size 432x288 with 1 Axes>"
      ]
     },
     "metadata": {
      "needs_background": "light"
     },
     "output_type": "display_data"
    }
   ],
   "source": [
    "# Инициализируем модель\n",
    "m = GEKKO(remote=False)\n",
    "nt = 51\n",
    "m.time = np.linspace(0,2,nt)\n",
    "\n",
    "# Задаём переменные\n",
    "y = m.Var(value=a1)\n",
    "z = m.Var(value=0)\n",
    "u = m.Var(value=0,lb=-c1,ub=c2) #граничные условия на управление\n",
    "t = m.Var(value=0)\n",
    "p = np.zeros(nt)    # Отмечаем последнюю точку\n",
    "p[-1] = 1.0\n",
    "final = m.Param(value=p)\n",
    "\n",
    "\n",
    "# Задаём уравнения\n",
    "m.Equation(y.dt() == 0.5*y + u) \n",
    "m.Equation(t.dt() == 1)\n",
    "m.Equation(z.dt() == b1*y - b2*u)\n",
    "\n",
    "m.Minimize(z * final)    # Целевая функция\n",
    "m.options.IMODE = 6 # 6 -- задача оптимального управления/динамического программирования\n",
    "m.solve(disp=False)\n",
    "\n",
    "\n",
    "# Рисуем получившееся решение\n",
    "plt.plot(m.time, y.value, 'k-', label=r'$y$')\n",
    "plt.plot(m.time,u.value,'r--',label=r'$u$')\n",
    "plt.legend(loc='best')\n",
    "plt.xlabel('Time')\n",
    "plt.ylabel('Value')\n",
    "plt.show()"
   ]
  },
  {
   "cell_type": "code",
   "execution_count": 32,
   "metadata": {},
   "outputs": [
    {
     "name": "stdout",
     "output_type": "stream",
     "text": [
      "Значения функционала в минимуме: -442.55722992\n"
     ]
    }
   ],
   "source": [
    "print(\"Значения функционала в минимуме: {}\".format(m.options.OBJFCNVAL))"
   ]
  },
  {
   "cell_type": "markdown",
   "metadata": {},
   "source": [
    "### Нахождение максимума"
   ]
  },
  {
   "cell_type": "code",
   "execution_count": 38,
   "metadata": {},
   "outputs": [
    {
     "data": {
      "image/png": "[encoded data removed]",
      "text/plain": [
       "<Figure size 432x288 with 1 Axes>"
      ]
     },
     "metadata": {
      "needs_background": "light"
     },
     "output_type": "display_data"
    }
   ],
   "source": [
    "# Инициализируем модель\n",
    "m = GEKKO(remote=False)\n",
    "nt = 51\n",
    "m.time = np.linspace(0,2,nt)\n",
    "\n",
    "# Задаём переменные\n",
    "y = m.Var(value=a1)\n",
    "z = m.Var(value=0)\n",
    "u = m.Var(value=0,lb=-c1,ub=c2) #граничные условия на управление\n",
    "t = m.Var(value=0)\n",
    "p = np.zeros(nt)    # Отмечаем последнюю точку\n",
    "p[-1] = 1.0\n",
    "final = m.Param(value=p)\n",
    "\n",
    "\n",
    "# Задаём уравнения\n",
    "m.Equation(y.dt() == 0.5*y + u) \n",
    "m.Equation(t.dt() == 1)\n",
    "m.Equation(z.dt() == b1*y - b2*u)\n",
    "\n",
    "m.Obj(-z * final)    # Целевая функция\n",
    "m.options.IMODE = 6 # 6 -- задача оптимального управления/динамического программирования\n",
    "m.solve(disp=False)\n",
    "\n",
    "\n",
    "# Рисуем получившееся решение\n",
    "plt.plot(m.time, y.value, 'k-', label=r'$y$')\n",
    "plt.plot(m.time,u.value,'r--',label=r'$u$')\n",
    "plt.legend(loc='best')\n",
    "plt.xlabel('Time')\n",
    "plt.ylabel('Value')\n",
    "plt.show()"
   ]
  },
  {
   "cell_type": "code",
   "execution_count": 41,
   "metadata": {},
   "outputs": [
    {
     "name": "stdout",
     "output_type": "stream",
     "text": [
      "Значения функционала в максимуме: 1547.8806342\n"
     ]
    }
   ],
   "source": [
    "print(\"Значения функционала в максимуме: {}\".format(-m.options.OBJFCNVAL))"
   ]
  },
  {
   "cell_type": "code",
   "execution_count": null,
   "metadata": {},
   "outputs": [],
   "source": []
  }
 ],
 "metadata": {
  "kernelspec": {
   "display_name": "Python 3",
   "language": "python",
   "name": "python3"
  },
  "language_info": {
   "codemirror_mode": {
    "name": "ipython",
    "version": 3
   },
   "file_extension": ".py",
   "mimetype": "text/x-python",
   "name": "python",
   "nbconvert_exporter": "python",
   "pygments_lexer": "ipython3",
   "version": "3.7.3"
  }
 },
 "nbformat": 4,
 "nbformat_minor": 2
}
