{
 "cells": [
  {
   "cell_type": "markdown",
   "metadata": {},
   "source": [
    "# Задача 1\n",
    "### Пешков Максим"
   ]
  },
  {
   "cell_type": "code",
   "execution_count": 39,
   "metadata": {},
   "outputs": [],
   "source": [
    "a1 = 17\n",
    "a2 = 6\n",
    "a3 = 26\n",
    "b1 = 14\n",
    "b2 = 1\n",
    "b3 = 12\n",
    "c1 = 32\n",
    "c2 = 18\n",
    "c3 = 30"
   ]
  },
  {
   "cell_type": "code",
   "execution_count": 40,
   "metadata": {},
   "outputs": [],
   "source": [
    "from scipy.optimize import minimize\n",
    "import matplotlib.pyplot as plt\n",
    "import numpy as np\n",
    "import math"
   ]
  },
  {
   "cell_type": "markdown",
   "metadata": {},
   "source": [
    "## Нахождение экстремума"
   ]
  },
  {
   "cell_type": "markdown",
   "metadata": {},
   "source": [
    "При нахождении максимума появляется ошибка, значит экстремум - минимум."
   ]
  },
  {
   "cell_type": "markdown",
   "metadata": {},
   "source": [
    "### Нахождение минимума"
   ]
  },
  {
   "cell_type": "code",
   "execution_count": 41,
   "metadata": {},
   "outputs": [
    {
     "data": {
      "image/png": "[encoded data removed]",
      "text/plain": [
       "<Figure size 576x432 with 1 Axes>"
      ]
     },
     "metadata": {
      "needs_background": "light"
     },
     "output_type": "display_data"
    }
   ],
   "source": [
    "# Задаём дискретное время\n",
    "num_of_fractions = 51   # Количество делений на дискретной шкале времени\n",
    "t = np.linspace(0, 2, num_of_fractions)     # Дискретная шкала времени\n",
    "dt = t[1] - t[0]    # Рассчитываем шаг шкалы\n",
    "\n",
    "def f(y): #подинтегральная функция, у интеграла которой хотим найти экстремум\n",
    "    return np.sum(((y[1:] - y[:-1]) / dt) ** 2 + a1 * y[1:] * ((y[1:] - y[:-1]) / dt) \n",
    "                  + b1 * y[1:] ** 2 + c1 * y[1:] * np.exp(2*t[1:]), axis=0)\n",
    "\n",
    "def g(y):\n",
    "    return -f(y)\n",
    "\n",
    "y0 = [0.2 for x in range(0, num_of_fractions)]     # Начальное значение y\n",
    "\n",
    "# Задаем ограничения на y. У нас y(0)=0 и y(2)=1\n",
    "bounds = [(None, None) for x in range(0, num_of_fractions)] # ограничительные условия\n",
    "bounds[0], bounds[-1] = (-b2, -b2), (b3, b3) #начальные и конечные условия\n",
    "\n",
    "res = minimize(f, y0, method='l-bfgs-b', bounds=bounds) #находим экстремум\n",
    "\n",
    "plt.figure(figsize=(8,6))\n",
    "plt.plot(t, res.x)\n",
    "plt.xlabel('t')\n",
    "plt.ylabel('y')\n",
    "plt.legend('y')\n",
    "plt.show()"
   ]
  },
  {
   "cell_type": "code",
   "execution_count": 42,
   "metadata": {},
   "outputs": [
    {
     "name": "stdout",
     "output_type": "stream",
     "text": [
      "Значение функционала в минимуме: 28769.882102844356\n"
     ]
    }
   ],
   "source": [
    "print(\"Значение функционала в минимуме: {}\".format(res.fun))"
   ]
  },
  {
   "cell_type": "code",
   "execution_count": null,
   "metadata": {},
   "outputs": [],
   "source": []
  }
 ],
 "metadata": {
  "kernelspec": {
   "display_name": "Python 3",
   "language": "python",
   "name": "python3"
  },
  "language_info": {
   "codemirror_mode": {
    "name": "ipython",
    "version": 3
   },
   "file_extension": ".py",
   "mimetype": "text/x-python",
   "name": "python",
   "nbconvert_exporter": "python",
   "pygments_lexer": "ipython3",
   "version": "3.7.3"
  }
 },
 "nbformat": 4,
 "nbformat_minor": 2
}
