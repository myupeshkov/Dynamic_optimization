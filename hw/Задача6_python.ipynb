{
 "cells": [
  {
   "cell_type": "markdown",
   "metadata": {},
   "source": [
    "# Задача 6\n",
    "### Пешков Максим"
   ]
  },
  {
   "cell_type": "code",
   "execution_count": 12,
   "metadata": {},
   "outputs": [],
   "source": [
    "a1 = 17\n",
    "a2 = 6\n",
    "a3 = 26\n",
    "b1 = 14\n",
    "b2 = 1\n",
    "b3 = 12\n",
    "c1 = 32\n",
    "c2 = 18\n",
    "c3 = 30"
   ]
  },
  {
   "cell_type": "code",
   "execution_count": 13,
   "metadata": {},
   "outputs": [],
   "source": [
    "from scipy.optimize import minimize\n",
    "import matplotlib.pyplot as plt\n",
    "import numpy as np\n",
    "import math"
   ]
  },
  {
   "cell_type": "markdown",
   "metadata": {},
   "source": [
    "При нахождении максимума появляется ошибка, значит экстремум - минимум."
   ]
  },
  {
   "cell_type": "code",
   "execution_count": 14,
   "metadata": {},
   "outputs": [
    {
     "data": {
      "image/png": "[encoded data removed]",
      "text/plain": [
       "<Figure size 576x432 with 1 Axes>"
      ]
     },
     "metadata": {
      "needs_background": "light"
     },
     "output_type": "display_data"
    }
   ],
   "source": [
    "num_of_fractions = 51   # Количество делений на дискретной шкале времени\n",
    "t = np.linspace(0, np.pi * 0.5, num_of_fractions)     # Дискретная шкала времени\n",
    "dt = t[1] - t[0]    # Рассчитываем шаг шкалы\n",
    "\n",
    "def f(y):\n",
    "    return np.sum(((y[1:] - y[:-1]) / dt) ** 2 - y[1:] ** 2, axis=0)\n",
    "\n",
    "y0 = [0.2 for x in range(0, num_of_fractions)]     # Начальное значение y\n",
    "\n",
    "# Задаем ограничения на y. У нас y(0)=0 и y(2)=1\n",
    "bounds = [(None, None) for x in range(0, num_of_fractions)]\n",
    "bounds[0], bounds[-1] = (1.0, 1.0), (2.0, 2.0) #начальные и конечные условия\n",
    "\n",
    "res = minimize(f, y0, method='l-bfgs-b', bounds=bounds)\n",
    "\n",
    "plt.figure(figsize=(8,6))\n",
    "plt.plot(t, res.x)\n",
    "plt.xlabel('t')\n",
    "plt.ylabel('y')\n",
    "plt.legend('y')\n",
    "plt.show()"
   ]
  },
  {
   "cell_type": "code",
   "execution_count": 15,
   "metadata": {},
   "outputs": [
    {
     "name": "stdout",
     "output_type": "stream",
     "text": [
      "Значения экстремали: [1.         1.06236046 1.1236744  1.18387866 1.24292244 1.30072532\n",
      " 1.35726222 1.41243663 1.46623426 1.51857419 1.56941349 1.61870799\n",
      " 1.66639319 1.71243397 1.75678681 1.79939606 1.84024234 1.87926637\n",
      " 1.91644109 1.95172681 1.98508285 2.01647785 2.04588477 2.07326112\n",
      " 2.09860188 2.12186018 2.14302773 2.16207747 2.17898379 2.19375047\n",
      " 2.20633885 2.21676845 2.22499723 2.23103369 2.23486162 2.23647003\n",
      " 2.23587675 2.23306945 2.22806164 2.22085613 2.21145149 2.19986164\n",
      " 2.18610062 2.17017835 2.15212811 2.13195173 2.10967945 2.08532503\n",
      " 2.05890562 2.03045796 2.        ]\n"
     ]
    }
   ],
   "source": [
    "print(\"Значения экстремали: {}\".format(res.x)) #искомая экстремаль"
   ]
  },
  {
   "cell_type": "code",
   "execution_count": 16,
   "metadata": {},
   "outputs": [
    {
     "name": "stdout",
     "output_type": "stream",
     "text": [
      "Значение функционала: -128.81850754928973\n"
     ]
    }
   ],
   "source": [
    "print(\"Значение функционала: {}\".format(res.fun))"
   ]
  },
  {
   "cell_type": "code",
   "execution_count": null,
   "metadata": {},
   "outputs": [],
   "source": []
  }
 ],
 "metadata": {
  "kernelspec": {
   "display_name": "Python 3",
   "language": "python",
   "name": "python3"
  },
  "language_info": {
   "codemirror_mode": {
    "name": "ipython",
    "version": 3
   },
   "file_extension": ".py",
   "mimetype": "text/x-python",
   "name": "python",
   "nbconvert_exporter": "python",
   "pygments_lexer": "ipython3",
   "version": "3.7.3"
  }
 },
 "nbformat": 4,
 "nbformat_minor": 2
}
